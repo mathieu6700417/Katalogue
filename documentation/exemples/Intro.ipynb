{
 "cells": [
  {
   "cell_type": "code",
   "execution_count": 1,
   "id": "2ef55853-75ac-4c93-90eb-40a6ecccaacd",
   "metadata": {},
   "outputs": [],
   "source": [
    "%load_ext autoreload\n",
    "%autoreload 2"
   ]
  },
  {
   "cell_type": "code",
   "execution_count": 5,
   "id": "ebb24262-a182-430c-89e5-952d5f448761",
   "metadata": {},
   "outputs": [],
   "source": [
    "import sys, os\n",
    "\n",
    "sys.path.append(os.getcwd().replace(\"documentation/exemples\", \"\"))"
   ]
  },
  {
   "cell_type": "code",
   "execution_count": null,
   "id": "517d399c-a30f-4a48-ad7e-f2185eee87a1",
   "metadata": {},
   "outputs": [],
   "source": []
  },
  {
   "cell_type": "code",
   "execution_count": 6,
   "id": "0c2cbfe2-b663-491d-9fa0-4423e2538f90",
   "metadata": {},
   "outputs": [],
   "source": [
    "from katalogue.insee.communes import DépôtINSEECommunes\n",
    "\n",
    "\n",
    "dépôt = DépôtINSEECommunes()\n",
    "communes = dépôt.communes()\n",
    "\n"
   ]
  },
  {
   "cell_type": "code",
   "execution_count": 7,
   "id": "9839a083-cbec-4897-8d4e-132ddf004d77",
   "metadata": {},
   "outputs": [
    {
     "data": {
      "text/html": [
       "<div>\n",
       "<style scoped>\n",
       "    .dataframe tbody tr th:only-of-type {\n",
       "        vertical-align: middle;\n",
       "    }\n",
       "\n",
       "    .dataframe tbody tr th {\n",
       "        vertical-align: top;\n",
       "    }\n",
       "\n",
       "    .dataframe thead th {\n",
       "        text-align: right;\n",
       "    }\n",
       "</style>\n",
       "<table border=\"1\" class=\"dataframe\">\n",
       "  <thead>\n",
       "    <tr style=\"text-align: right;\">\n",
       "      <th></th>\n",
       "      <th>TYPECOM</th>\n",
       "      <th>COM</th>\n",
       "      <th>REG</th>\n",
       "      <th>DEP</th>\n",
       "      <th>CTCD</th>\n",
       "      <th>ARR</th>\n",
       "      <th>TNCC</th>\n",
       "      <th>NCC</th>\n",
       "      <th>NCCENR</th>\n",
       "      <th>LIBELLE</th>\n",
       "      <th>CAN</th>\n",
       "      <th>COMPARENT</th>\n",
       "    </tr>\n",
       "  </thead>\n",
       "  <tbody>\n",
       "    <tr>\n",
       "      <th>0</th>\n",
       "      <td>COM</td>\n",
       "      <td>01001</td>\n",
       "      <td>84.0</td>\n",
       "      <td>01</td>\n",
       "      <td>01D</td>\n",
       "      <td>012</td>\n",
       "      <td>5</td>\n",
       "      <td>ABERGEMENT CLEMENCIAT</td>\n",
       "      <td>Abergement-Clémenciat</td>\n",
       "      <td>L'Abergement-Clémenciat</td>\n",
       "      <td>0108</td>\n",
       "      <td>NaN</td>\n",
       "    </tr>\n",
       "    <tr>\n",
       "      <th>1</th>\n",
       "      <td>COM</td>\n",
       "      <td>01002</td>\n",
       "      <td>84.0</td>\n",
       "      <td>01</td>\n",
       "      <td>01D</td>\n",
       "      <td>011</td>\n",
       "      <td>5</td>\n",
       "      <td>ABERGEMENT DE VAREY</td>\n",
       "      <td>Abergement-de-Varey</td>\n",
       "      <td>L'Abergement-de-Varey</td>\n",
       "      <td>0101</td>\n",
       "      <td>NaN</td>\n",
       "    </tr>\n",
       "    <tr>\n",
       "      <th>2</th>\n",
       "      <td>COM</td>\n",
       "      <td>01004</td>\n",
       "      <td>84.0</td>\n",
       "      <td>01</td>\n",
       "      <td>01D</td>\n",
       "      <td>011</td>\n",
       "      <td>1</td>\n",
       "      <td>AMBERIEU EN BUGEY</td>\n",
       "      <td>Ambérieu-en-Bugey</td>\n",
       "      <td>Ambérieu-en-Bugey</td>\n",
       "      <td>0101</td>\n",
       "      <td>NaN</td>\n",
       "    </tr>\n",
       "    <tr>\n",
       "      <th>3</th>\n",
       "      <td>COM</td>\n",
       "      <td>01005</td>\n",
       "      <td>84.0</td>\n",
       "      <td>01</td>\n",
       "      <td>01D</td>\n",
       "      <td>012</td>\n",
       "      <td>1</td>\n",
       "      <td>AMBERIEUX EN DOMBES</td>\n",
       "      <td>Ambérieux-en-Dombes</td>\n",
       "      <td>Ambérieux-en-Dombes</td>\n",
       "      <td>0122</td>\n",
       "      <td>NaN</td>\n",
       "    </tr>\n",
       "    <tr>\n",
       "      <th>4</th>\n",
       "      <td>COM</td>\n",
       "      <td>01006</td>\n",
       "      <td>84.0</td>\n",
       "      <td>01</td>\n",
       "      <td>01D</td>\n",
       "      <td>011</td>\n",
       "      <td>1</td>\n",
       "      <td>AMBLEON</td>\n",
       "      <td>Ambléon</td>\n",
       "      <td>Ambléon</td>\n",
       "      <td>0104</td>\n",
       "      <td>NaN</td>\n",
       "    </tr>\n",
       "    <tr>\n",
       "      <th>...</th>\n",
       "      <td>...</td>\n",
       "      <td>...</td>\n",
       "      <td>...</td>\n",
       "      <td>...</td>\n",
       "      <td>...</td>\n",
       "      <td>...</td>\n",
       "      <td>...</td>\n",
       "      <td>...</td>\n",
       "      <td>...</td>\n",
       "      <td>...</td>\n",
       "      <td>...</td>\n",
       "      <td>...</td>\n",
       "    </tr>\n",
       "    <tr>\n",
       "      <th>37596</th>\n",
       "      <td>COM</td>\n",
       "      <td>97613</td>\n",
       "      <td>6.0</td>\n",
       "      <td>976</td>\n",
       "      <td>976D</td>\n",
       "      <td>NaN</td>\n",
       "      <td>0</td>\n",
       "      <td>M TSANGAMOUJI</td>\n",
       "      <td>M'Tsangamouji</td>\n",
       "      <td>M'Tsangamouji</td>\n",
       "      <td>97613</td>\n",
       "      <td>NaN</td>\n",
       "    </tr>\n",
       "    <tr>\n",
       "      <th>37597</th>\n",
       "      <td>COM</td>\n",
       "      <td>97614</td>\n",
       "      <td>6.0</td>\n",
       "      <td>976</td>\n",
       "      <td>976D</td>\n",
       "      <td>NaN</td>\n",
       "      <td>1</td>\n",
       "      <td>OUANGANI</td>\n",
       "      <td>Ouangani</td>\n",
       "      <td>Ouangani</td>\n",
       "      <td>97610</td>\n",
       "      <td>NaN</td>\n",
       "    </tr>\n",
       "    <tr>\n",
       "      <th>37598</th>\n",
       "      <td>COM</td>\n",
       "      <td>97615</td>\n",
       "      <td>6.0</td>\n",
       "      <td>976</td>\n",
       "      <td>976D</td>\n",
       "      <td>NaN</td>\n",
       "      <td>0</td>\n",
       "      <td>PAMANDZI</td>\n",
       "      <td>Pamandzi</td>\n",
       "      <td>Pamandzi</td>\n",
       "      <td>97611</td>\n",
       "      <td>NaN</td>\n",
       "    </tr>\n",
       "    <tr>\n",
       "      <th>37599</th>\n",
       "      <td>COM</td>\n",
       "      <td>97616</td>\n",
       "      <td>6.0</td>\n",
       "      <td>976</td>\n",
       "      <td>976D</td>\n",
       "      <td>NaN</td>\n",
       "      <td>0</td>\n",
       "      <td>SADA</td>\n",
       "      <td>Sada</td>\n",
       "      <td>Sada</td>\n",
       "      <td>97612</td>\n",
       "      <td>NaN</td>\n",
       "    </tr>\n",
       "    <tr>\n",
       "      <th>37600</th>\n",
       "      <td>COM</td>\n",
       "      <td>97617</td>\n",
       "      <td>6.0</td>\n",
       "      <td>976</td>\n",
       "      <td>976D</td>\n",
       "      <td>NaN</td>\n",
       "      <td>0</td>\n",
       "      <td>TSINGONI</td>\n",
       "      <td>Tsingoni</td>\n",
       "      <td>Tsingoni</td>\n",
       "      <td>97613</td>\n",
       "      <td>NaN</td>\n",
       "    </tr>\n",
       "  </tbody>\n",
       "</table>\n",
       "<p>37601 rows × 12 columns</p>\n",
       "</div>"
      ],
      "text/plain": [
       "      TYPECOM    COM   REG  DEP  CTCD  ARR  TNCC                    NCC  \\\n",
       "0         COM  01001  84.0   01   01D  012     5  ABERGEMENT CLEMENCIAT   \n",
       "1         COM  01002  84.0   01   01D  011     5    ABERGEMENT DE VAREY   \n",
       "2         COM  01004  84.0   01   01D  011     1      AMBERIEU EN BUGEY   \n",
       "3         COM  01005  84.0   01   01D  012     1    AMBERIEUX EN DOMBES   \n",
       "4         COM  01006  84.0   01   01D  011     1                AMBLEON   \n",
       "...       ...    ...   ...  ...   ...  ...   ...                    ...   \n",
       "37596     COM  97613   6.0  976  976D  NaN     0          M TSANGAMOUJI   \n",
       "37597     COM  97614   6.0  976  976D  NaN     1               OUANGANI   \n",
       "37598     COM  97615   6.0  976  976D  NaN     0               PAMANDZI   \n",
       "37599     COM  97616   6.0  976  976D  NaN     0                   SADA   \n",
       "37600     COM  97617   6.0  976  976D  NaN     0               TSINGONI   \n",
       "\n",
       "                      NCCENR                  LIBELLE    CAN  COMPARENT  \n",
       "0      Abergement-Clémenciat  L'Abergement-Clémenciat   0108        NaN  \n",
       "1        Abergement-de-Varey    L'Abergement-de-Varey   0101        NaN  \n",
       "2          Ambérieu-en-Bugey        Ambérieu-en-Bugey   0101        NaN  \n",
       "3        Ambérieux-en-Dombes      Ambérieux-en-Dombes   0122        NaN  \n",
       "4                    Ambléon                  Ambléon   0104        NaN  \n",
       "...                      ...                      ...    ...        ...  \n",
       "37596          M'Tsangamouji            M'Tsangamouji  97613        NaN  \n",
       "37597               Ouangani                 Ouangani  97610        NaN  \n",
       "37598               Pamandzi                 Pamandzi  97611        NaN  \n",
       "37599                   Sada                     Sada  97612        NaN  \n",
       "37600               Tsingoni                 Tsingoni  97613        NaN  \n",
       "\n",
       "[37601 rows x 12 columns]"
      ]
     },
     "execution_count": 7,
     "metadata": {},
     "output_type": "execute_result"
    }
   ],
   "source": [
    "communes"
   ]
  },
  {
   "cell_type": "code",
   "execution_count": 12,
   "id": "5e9fa23a-cf00-43e3-98ed-f83aaadc1df5",
   "metadata": {},
   "outputs": [
    {
     "name": "stdout",
     "output_type": "stream",
     "text": [
      "total 5232\n",
      "drwxrwxr-x 2 mathieu mathieu    4096 nov.  24 16:14 \u001b[0m\u001b[01;34m.\u001b[0m/\n",
      "drwxrwxr-x 3 mathieu mathieu    4096 nov.  24 15:51 \u001b[01;34m..\u001b[0m/\n",
      "-rw-rw-r-- 1 mathieu mathieu 2671586 nov.  24 16:08 commune_2022.csv\n",
      "-rw-rw-r-- 1 mathieu mathieu 2671586 nov.  24 16:14 communes.csv\n"
     ]
    }
   ],
   "source": [
    "ls -la /home/mathieu/.katalogue/insee/"
   ]
  },
  {
   "cell_type": "code",
   "execution_count": 7,
   "id": "e57ca446-143b-46c6-8035-646e2d914cfe",
   "metadata": {},
   "outputs": [
    {
     "name": "stdout",
     "output_type": "stream",
     "text": [
      "/home/mathieu/.katalogue/insee/commune_2022.csv\n"
     ]
    }
   ],
   "source": [
    "dépôt.télécharger()"
   ]
  },
  {
   "cell_type": "code",
   "execution_count": 5,
   "id": "48b1764a-9a59-41e7-a85d-d7ae6bbc47b5",
   "metadata": {},
   "outputs": [
    {
     "name": "stdout",
     "output_type": "stream",
     "text": [
      "3\n"
     ]
    }
   ],
   "source": [
    "print(3)"
   ]
  },
  {
   "cell_type": "code",
   "execution_count": 5,
   "id": "1bd71d29-f37a-4c43-ae2d-5d678d4321ad",
   "metadata": {},
   "outputs": [
    {
     "data": {
      "text/plain": [
       "<katalogue.insee.communes.DépôtINSEECommunes at 0x7f5afc626e60>"
      ]
     },
     "execution_count": 5,
     "metadata": {},
     "output_type": "execute_result"
    }
   ],
   "source": [
    "dépôt.load_communes"
   ]
  },
  {
   "cell_type": "code",
   "execution_count": 4,
   "id": "cb22c41a-61e8-45a4-9ad9-ce68bd620169",
   "metadata": {},
   "outputs": [
    {
     "data": {
      "text/plain": [
       "6"
      ]
     },
     "execution_count": 4,
     "metadata": {},
     "output_type": "execute_result"
    }
   ],
   "source": [
    "ajouter_3(3)"
   ]
  },
  {
   "cell_type": "code",
   "execution_count": 13,
   "id": "444caecf-84a8-442e-9476-94c6bdf91f47",
   "metadata": {},
   "outputs": [],
   "source": [
    "\n"
   ]
  },
  {
   "cell_type": "code",
   "execution_count": 14,
   "id": "499cd33d-d995-4cc4-848c-7b419145b037",
   "metadata": {},
   "outputs": [
    {
     "data": {
      "text/plain": [
       "'~/.katalogue/'"
      ]
     },
     "execution_count": 14,
     "metadata": {},
     "output_type": "execute_result"
    }
   ],
   "source": [
    "dossier"
   ]
  },
  {
   "cell_type": "code",
   "execution_count": 15,
   "id": "65bb8e91-ff23-44d1-95e5-86ebd9a49d7f",
   "metadata": {},
   "outputs": [
    {
     "data": {
      "text/plain": [
       "'/home/mathieu/.katalogue/'"
      ]
     },
     "execution_count": 15,
     "metadata": {},
     "output_type": "execute_result"
    }
   ],
   "source": []
  },
  {
   "cell_type": "code",
   "execution_count": null,
   "id": "df51d565-d35e-4a65-9fd8-4043dbb7959b",
   "metadata": {},
   "outputs": [],
   "source": []
  }
 ],
 "metadata": {
  "kernelspec": {
   "display_name": "Python 3 (ipykernel)",
   "language": "python",
   "name": "python3"
  },
  "language_info": {
   "codemirror_mode": {
    "name": "ipython",
    "version": 3
   },
   "file_extension": ".py",
   "mimetype": "text/x-python",
   "name": "python",
   "nbconvert_exporter": "python",
   "pygments_lexer": "ipython3",
   "version": "3.10.6"
  }
 },
 "nbformat": 4,
 "nbformat_minor": 5
}
