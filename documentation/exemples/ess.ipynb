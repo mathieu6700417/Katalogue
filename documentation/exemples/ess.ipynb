{
 "cells": [
  {
   "cell_type": "code",
   "execution_count": 1,
   "id": "5111b765-a02a-41ff-ac41-e8f1c8959260",
   "metadata": {},
   "outputs": [],
   "source": [
    "%load_ext autoreload\n",
    "%autoreload 2\n",
    "\n",
    "import sys, os\n",
    "sys.path.append(\"/\".join(os.getcwd().split(\"/\")[:-2]) + \"/\")"
   ]
  },
  {
   "cell_type": "code",
   "execution_count": 12,
   "id": "cef2c7c8-039a-4008-9479-6f3aaab31b3d",
   "metadata": {},
   "outputs": [
    {
     "data": {
      "text/html": [
       "<div>\n",
       "<style scoped>\n",
       "    .dataframe tbody tr th:only-of-type {\n",
       "        vertical-align: middle;\n",
       "    }\n",
       "\n",
       "    .dataframe tbody tr th {\n",
       "        vertical-align: top;\n",
       "    }\n",
       "\n",
       "    .dataframe thead th {\n",
       "        text-align: right;\n",
       "    }\n",
       "</style>\n",
       "<table border=\"1\" class=\"dataframe\">\n",
       "  <thead>\n",
       "    <tr style=\"text-align: right;\">\n",
       "      <th></th>\n",
       "      <th>Code</th>\n",
       "      <th>Libellé</th>\n",
       "    </tr>\n",
       "  </thead>\n",
       "  <tbody>\n",
       "    <tr>\n",
       "      <th>0</th>\n",
       "      <td>0</td>\n",
       "      <td>Organisme de placement collectif en valeurs mo...</td>\n",
       "    </tr>\n",
       "    <tr>\n",
       "      <th>1</th>\n",
       "      <td>1000</td>\n",
       "      <td>Entrepreneur individuel</td>\n",
       "    </tr>\n",
       "    <tr>\n",
       "      <th>2</th>\n",
       "      <td>2110</td>\n",
       "      <td>Indivision entre personnes physiques</td>\n",
       "    </tr>\n",
       "    <tr>\n",
       "      <th>3</th>\n",
       "      <td>2120</td>\n",
       "      <td>Indivision avec personne morale</td>\n",
       "    </tr>\n",
       "    <tr>\n",
       "      <th>4</th>\n",
       "      <td>2210</td>\n",
       "      <td>Société créée de fait entre personnes physiques</td>\n",
       "    </tr>\n",
       "    <tr>\n",
       "      <th>...</th>\n",
       "      <td>...</td>\n",
       "      <td>...</td>\n",
       "    </tr>\n",
       "    <tr>\n",
       "      <th>255</th>\n",
       "      <td>9240</td>\n",
       "      <td>Congrégation</td>\n",
       "    </tr>\n",
       "    <tr>\n",
       "      <th>256</th>\n",
       "      <td>9260</td>\n",
       "      <td>Association de droit local (Bas-Rhin, Haut-Rhi...</td>\n",
       "    </tr>\n",
       "    <tr>\n",
       "      <th>257</th>\n",
       "      <td>9300</td>\n",
       "      <td>Fondation</td>\n",
       "    </tr>\n",
       "    <tr>\n",
       "      <th>258</th>\n",
       "      <td>9900</td>\n",
       "      <td>Autre personne morale de droit privé</td>\n",
       "    </tr>\n",
       "    <tr>\n",
       "      <th>259</th>\n",
       "      <td>9970</td>\n",
       "      <td>Groupement de coopération sanitaire à gestion ...</td>\n",
       "    </tr>\n",
       "  </tbody>\n",
       "</table>\n",
       "<p>260 rows × 2 columns</p>\n",
       "</div>"
      ],
      "text/plain": [
       "     Code                                            Libellé\n",
       "0       0  Organisme de placement collectif en valeurs mo...\n",
       "1    1000                            Entrepreneur individuel\n",
       "2    2110              Indivision entre personnes physiques \n",
       "3    2120                   Indivision avec personne morale \n",
       "4    2210   Société créée de fait entre personnes physiques \n",
       "..    ...                                                ...\n",
       "255  9240                                      Congrégation \n",
       "256  9260  Association de droit local (Bas-Rhin, Haut-Rhi...\n",
       "257  9300                                         Fondation \n",
       "258  9900              Autre personne morale de droit privé \n",
       "259  9970  Groupement de coopération sanitaire à gestion ...\n",
       "\n",
       "[260 rows x 2 columns]"
      ]
     },
     "execution_count": 12,
     "metadata": {},
     "output_type": "execute_result"
    }
   ],
   "source": [
    "from katalogue.insee.catégories_juridiques import DépôtINSEECatégoriesJuridiques\n",
    "\n",
    "dépôt = DépôtINSEECatégoriesJuridiques()\n",
    "dépôt.catégories(niveau=3)"
   ]
  },
  {
   "cell_type": "code",
   "execution_count": null,
   "id": "ea905cbb-369e-4f2c-b196-d5111d5daa3d",
   "metadata": {},
   "outputs": [],
   "source": []
  }
 ],
 "metadata": {
  "kernelspec": {
   "display_name": "Python 3 (ipykernel)",
   "language": "python",
   "name": "python3"
  },
  "language_info": {
   "codemirror_mode": {
    "name": "ipython",
    "version": 3
   },
   "file_extension": ".py",
   "mimetype": "text/x-python",
   "name": "python",
   "nbconvert_exporter": "python",
   "pygments_lexer": "ipython3",
   "version": "3.10.6"
  }
 },
 "nbformat": 4,
 "nbformat_minor": 5
}
